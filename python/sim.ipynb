{
 "cells": [
  {
   "cell_type": "markdown",
   "metadata": {},
   "source": [
    "# Gray-Scott Model"
   ]
  },
  {
   "cell_type": "code",
   "execution_count": 1,
   "metadata": {},
   "outputs": [],
   "source": [
    "import numpy as np"
   ]
  },
  {
   "cell_type": "code",
   "execution_count": 2,
   "metadata": {},
   "outputs": [],
   "source": [
    "#%config InlineBackend.figure_format = 'retina'"
   ]
  },
  {
   "cell_type": "markdown",
   "metadata": {},
   "source": [
    "The reaction-diffusion system described here involves two generic chemical species U and V, whose concentration at a given point in space is referred to by variables u and v. As the term implies, they react with each other, and they diffuse through the medium. Therefore the concentration of U and V at any given location changes with time and can differ from that at other locations.\n",
    "\n",
    "The overall behavior of the system is described by the following formula, two equations which describe three sources of increase and decrease for each of the two chemicals:\n",
    "\n",
    "\n",
    "$$\n",
    "\\begin{array}{l}\n",
    "\\displaystyle \\frac{\\partial u}{\\partial t} = D_u \\Delta u - uv^2 + F(1-u) \\\\\n",
    "\\displaystyle \\frac{\\partial v}{\\partial t} = D_v \\Delta v + uv^2 - (F+k)v\n",
    "\\end{array}\n",
    "$$\n",
    "\n",
    "The laplacian is computed with the following numerical scheme\n",
    "\n",
    "$$\n",
    "\\Delta u_{i,j} \\approx u_{i,j-1} + u_{i-1,j} -4u_{i,j} + u_{i+1, j} + u_{i, j+1}\n",
    "$$\n",
    "\n",
    "The classic Euler scheme is used to integrate the time derivative."
   ]
  },
  {
   "cell_type": "markdown",
   "metadata": {},
   "source": [
    "## Initialization\n",
    "\n",
    "$u$ is $1$ everywhere and $v$ is $0$ in the domain except in a square zone where $v = 0.25$ and $ u = 0.5$. This square located in the center of the domain is  $[0, 1]\\times[0,1]$ with a size of $0.2$.\n"
   ]
  },
  {
   "cell_type": "code",
   "execution_count": 3,
   "metadata": {},
   "outputs": [],
   "source": [
    "def init(n):\n",
    "\n",
    "    # allocate n + 2 for ghost cells in each direction\n",
    "    u = np.ones((n+2,n+2))\n",
    "    # allocate n + 2 for ghost cells in each direction\n",
    "    v = np.zeros((n+2,n+2))\n",
    "    \n",
    "    x, y = np.meshgrid(np.linspace(0, 1, n+2), np.linspace(0, 1, n+2))\n",
    "\n",
    "    # mask of square which will be initialized to different value\n",
    "    mask = (0.4<x) & (x<0.6) & (0.4<y) & (y<0.6)\n",
    "\n",
    "    # init square\n",
    "    u[mask] = 0.50\n",
    "    v[mask] = 0.25\n",
    "\n",
    "\n",
    "    # return u and v\n",
    "    return u, v"
   ]
  },
  {
   "cell_type": "markdown",
   "metadata": {},
   "source": [
    "## Boundary conditions\n",
    "\n",
    "We assume that the domain is periodic.\n"
   ]
  },
  {
   "cell_type": "code",
   "execution_count": 4,
   "metadata": {},
   "outputs": [],
   "source": [
    "def periodic_bc(u):\n",
    "    # copy last row onto row 0 (ghost)\n",
    "    u[0, :] = u[-2, :]\n",
    "    # copy first row onto row n + 1 (ghost) \n",
    "    u[-1, :] = u[1, :]\n",
    "    \n",
    "    # copy last col onto col 0 (ghost)\n",
    "    u[:, 0] = u[:, -2]\n",
    "    # copy first col into col n + 1 (ghost)\n",
    "    u[:, -1] = u[:, 1]"
   ]
  },
  {
   "cell_type": "markdown",
   "metadata": {},
   "source": [
    "## Laplacian"
   ]
  },
  {
   "cell_type": "code",
   "execution_count": 5,
   "metadata": {},
   "outputs": [],
   "source": [
    "def laplacian(u):\n",
    "    \"\"\"\n",
    "    second order finite differences\n",
    "    \"\"\"\n",
    "    return (                  u[ :-2, 1:-1] +\n",
    "             u[1:-1, :-2] - 4*u[1:-1, 1:-1] + u[1:-1, 2:] +\n",
    "                          +   u[2:  , 1:-1] )"
   ]
  },
  {
   "cell_type": "markdown",
   "metadata": {},
   "source": [
    "## Gray-Scott model"
   ]
  },
  {
   "cell_type": "code",
   "execution_count": 6,
   "metadata": {},
   "outputs": [],
   "source": [
    "def grayscott(U, V, Du, Dv, F, k):\n",
    "    \n",
    "    u, v = U[1:-1,1:-1], V[1:-1,1:-1]\n",
    "\n",
    "    Lu = laplacian(U)\n",
    "    Lv = laplacian(V)\n",
    "\n",
    "    uvv = u*v*v\n",
    "    u += Du*Lu - uvv + F*(1 - u)\n",
    "    v += Dv*Lv + uvv - (F + k)*v\n",
    "\n",
    "    periodic_bc(U)\n",
    "    periodic_bc(V)"
   ]
  },
  {
   "cell_type": "markdown",
   "metadata": {},
   "source": [
    "## Visualization\n",
    "\n",
    "We use the following parameters:"
   ]
  },
  {
   "cell_type": "code",
   "execution_count": 7,
   "metadata": {},
   "outputs": [],
   "source": [
    "Du, Dv = .1, .05\n",
    "F, k = 0.0545, 0.062"
   ]
  },
  {
   "cell_type": "code",
   "execution_count": 8,
   "metadata": {},
   "outputs": [
    {
     "data": {
      "application/vnd.jupyter.widget-view+json": {
       "model_id": "cbe81790d1ee42aba4918db3e0eaa68b",
       "version_major": 2,
       "version_minor": 0
      },
      "text/plain": [
       "  0%|          | 0/500 [00:00<?, ?it/s]"
      ]
     },
     "metadata": {},
     "output_type": "display_data"
    },
    {
     "name": "stdout",
     "output_type": "stream",
     "text": [
      "CPU times: user 29.8 s, sys: 29.2 s, total: 59 s\n",
      "Wall time: 59.5 s\n"
     ]
    }
   ],
   "source": [
    "%%time\n",
    "from tqdm.notebook import tqdm\n",
    "from PIL import Image\n",
    "U, V = init(300)\n",
    "\n",
    "def create_image():\n",
    "    global U, V\n",
    "    for t in range(40):\n",
    "        grayscott(U, V, Du, Dv, F, k)\n",
    "    V_scaled = np.uint8(255*(V-V.min()) / (V.max()-V.min()))\n",
    "    return V_scaled\n",
    "\n",
    "def create_frames(n):\n",
    "\n",
    "    return [create_image() for i in tqdm(range(n))]\n",
    "    \n",
    "frames = create_frames(500)"
   ]
  },
  {
   "cell_type": "code",
   "execution_count": 9,
   "metadata": {},
   "outputs": [
    {
     "data": {
      "application/vnd.jupyter.widget-view+json": {
       "model_id": "5ca2410eee3c4319b3319724b222bc37",
       "version_major": 2,
       "version_minor": 0
      },
      "text/plain": [
       "interactive(children=(IntSlider(value=0, description='iframe', max=499), Output()), _dom_classes=('widget-inte…"
      ]
     },
     "metadata": {},
     "output_type": "display_data"
    },
    {
     "data": {
      "text/plain": [
       "<function __main__.display_sequence(iframe)>"
      ]
     },
     "execution_count": 9,
     "metadata": {},
     "output_type": "execute_result"
    }
   ],
   "source": [
    "from ipywidgets import interact, IntSlider\n",
    "\n",
    "def display_sequence(iframe):\n",
    "    \n",
    "    return Image.fromarray(frames[iframe])\n",
    "    \n",
    "interact(display_sequence, \n",
    "         iframe=IntSlider(min=0,\n",
    "                          max=len(frames)-1,\n",
    "                          step=1,\n",
    "                          value=0, \n",
    "                          continuous_update=True))"
   ]
  },
  {
   "cell_type": "code",
   "execution_count": 10,
   "metadata": {},
   "outputs": [],
   "source": [
    "import imageio\n",
    "frames_scaled = [np.uint8(255 * frame) for frame in frames]\n",
    "imageio.mimsave('images/movie.gif', frames_scaled, format='gif', fps=60)"
   ]
  },
  {
   "cell_type": "code",
   "execution_count": 11,
   "metadata": {
    "lines_to_next_cell": 2
   },
   "outputs": [
    {
     "data": {
      "text/html": [
       "<img src=\"images/movie.gif\">"
      ],
      "text/plain": [
       "<IPython.core.display.HTML object>"
      ]
     },
     "execution_count": 11,
     "metadata": {},
     "output_type": "execute_result"
    }
   ],
   "source": [
    "from IPython.display import HTML\n",
    "HTML('<img src=\"images/movie.gif\">')"
   ]
  },
  {
   "cell_type": "markdown",
   "metadata": {},
   "source": [
    "## References\n",
    "\n",
    "- [Reaction-Diffusion by the Gray-Scott Model: Pearson's Parametrization](https://mrob.com/pub/comp/xmorphia/)"
   ]
  },
  {
   "cell_type": "code",
   "execution_count": null,
   "metadata": {},
   "outputs": [],
   "source": []
  }
 ],
 "metadata": {
  "kernelspec": {
   "display_name": "Python 3 (ipykernel)",
   "language": "python",
   "name": "python3"
  },
  "language_info": {
   "codemirror_mode": {
    "name": "ipython",
    "version": 3
   },
   "file_extension": ".py",
   "mimetype": "text/x-python",
   "name": "python",
   "nbconvert_exporter": "python",
   "pygments_lexer": "ipython3",
   "version": "3.13.5"
  }
 },
 "nbformat": 4,
 "nbformat_minor": 4
}
